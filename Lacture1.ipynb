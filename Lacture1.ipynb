{
 "cells": [
  {
   "cell_type": "code",
   "execution_count": 1,
   "id": "2a7ed5c1",
   "metadata": {},
   "outputs": [
    {
     "name": "stdout",
     "output_type": "stream",
     "text": [
      "Hello World\n"
     ]
    }
   ],
   "source": [
    "print(\"Hello World\")"
   ]
  },
  {
   "cell_type": "code",
   "execution_count": 2,
   "id": "557581ed",
   "metadata": {},
   "outputs": [
    {
     "name": "stdout",
     "output_type": "stream",
     "text": [
      "viraj\n"
     ]
    }
   ],
   "source": [
    "print(\"viraj\")"
   ]
  },
  {
   "cell_type": "code",
   "execution_count": 3,
   "id": "d48fe6b4",
   "metadata": {},
   "outputs": [
    {
     "ename": "NameError",
     "evalue": "name 'Print' is not defined",
     "output_type": "error",
     "traceback": [
      "\u001b[1;31m---------------------------------------------------------------------------\u001b[0m",
      "\u001b[1;31mNameError\u001b[0m                                 Traceback (most recent call last)",
      "\u001b[1;32m~\\AppData\\Local\\Temp\\ipykernel_19292\\2771015764.py\u001b[0m in \u001b[0;36m<module>\u001b[1;34m\u001b[0m\n\u001b[1;32m----> 1\u001b[1;33m \u001b[0mPrint\u001b[0m\u001b[1;33m(\u001b[0m\u001b[1;34m\"viraj\"\u001b[0m\u001b[1;33m)\u001b[0m\u001b[1;33m\u001b[0m\u001b[1;33m\u001b[0m\u001b[0m\n\u001b[0m",
      "\u001b[1;31mNameError\u001b[0m: name 'Print' is not defined"
     ]
    }
   ],
   "source": [
    "Print(\"viraj\")"
   ]
  },
  {
   "cell_type": "markdown",
   "id": "0baa2462",
   "metadata": {},
   "source": [
    "### python is case-sensitive"
   ]
  },
  {
   "cell_type": "code",
   "execution_count": 5,
   "id": "6bb6e0eb",
   "metadata": {},
   "outputs": [
    {
     "ename": "NameError",
     "evalue": "name 'viraj' is not defined",
     "output_type": "error",
     "traceback": [
      "\u001b[1;31m---------------------------------------------------------------------------\u001b[0m",
      "\u001b[1;31mNameError\u001b[0m                                 Traceback (most recent call last)",
      "\u001b[1;32m~\\AppData\\Local\\Temp\\ipykernel_19292\\778699506.py\u001b[0m in \u001b[0;36m<module>\u001b[1;34m\u001b[0m\n\u001b[1;32m----> 1\u001b[1;33m \u001b[0mprint\u001b[0m\u001b[1;33m(\u001b[0m\u001b[0mviraj\u001b[0m\u001b[1;33m)\u001b[0m\u001b[1;33m\u001b[0m\u001b[1;33m\u001b[0m\u001b[0m\n\u001b[0m",
      "\u001b[1;31mNameError\u001b[0m: name 'viraj' is not defined"
     ]
    }
   ],
   "source": [
    "print(viraj)"
   ]
  },
  {
   "cell_type": "code",
   "execution_count": 6,
   "id": "fa8c9982",
   "metadata": {},
   "outputs": [
    {
     "name": "stdout",
     "output_type": "stream",
     "text": [
      "10\n"
     ]
    }
   ],
   "source": [
    "print(10)"
   ]
  },
  {
   "cell_type": "code",
   "execution_count": 8,
   "id": "85c6725e",
   "metadata": {},
   "outputs": [
    {
     "name": "stdout",
     "output_type": "stream",
     "text": [
      "viraj\n"
     ]
    }
   ],
   "source": [
    "print ('viraj')"
   ]
  },
  {
   "cell_type": "markdown",
   "id": "a36da800",
   "metadata": {},
   "source": [
    "#### string(txt) should be inverted comma"
   ]
  },
  {
   "cell_type": "markdown",
   "id": "0afe65df",
   "metadata": {},
   "source": [
    "## shortcut keys"
   ]
  },
  {
   "cell_type": "markdown",
   "id": "1ea935a3",
   "metadata": {},
   "source": [
    "### run -> shift+enter\n",
    "### add a cell above -> a with click curser(arrow)\n",
    "### add a cell below -> b with click curser(arrow)\n",
    "### delete a cell -> x with click curser(arrow)"
   ]
  },
  {
   "cell_type": "code",
   "execution_count": 9,
   "id": "ce45bd9c",
   "metadata": {},
   "outputs": [
    {
     "data": {
      "text/plain": [
       "int"
      ]
     },
     "execution_count": 9,
     "metadata": {},
     "output_type": "execute_result"
    }
   ],
   "source": [
    "x=10\n",
    "type(x)"
   ]
  },
  {
   "cell_type": "code",
   "execution_count": 10,
   "id": "b5ff0ddd",
   "metadata": {},
   "outputs": [
    {
     "data": {
      "text/plain": [
       "float"
      ]
     },
     "execution_count": 10,
     "metadata": {},
     "output_type": "execute_result"
    }
   ],
   "source": [
    "x=10.5\n",
    "type(x)"
   ]
  },
  {
   "cell_type": "code",
   "execution_count": 11,
   "id": "f2afdf89",
   "metadata": {},
   "outputs": [
    {
     "data": {
      "text/plain": [
       "str"
      ]
     },
     "execution_count": 11,
     "metadata": {},
     "output_type": "execute_result"
    }
   ],
   "source": [
    "course=\"data science\"\n",
    "type(course)"
   ]
  },
  {
   "cell_type": "markdown",
   "id": "8f5c7e52",
   "metadata": {},
   "source": [
    "## variable"
   ]
  },
  {
   "cell_type": "code",
   "execution_count": 12,
   "id": "b4750194",
   "metadata": {},
   "outputs": [
    {
     "data": {
      "text/plain": [
       "('ds', 'ba', 'ml')"
      ]
     },
     "execution_count": 12,
     "metadata": {},
     "output_type": "execute_result"
    }
   ],
   "source": [
    "coursename='ds','ba', 'ml'\n",
    "coursename"
   ]
  },
  {
   "cell_type": "code",
   "execution_count": 13,
   "id": "209201ce",
   "metadata": {},
   "outputs": [
    {
     "ename": "SyntaxError",
     "evalue": "invalid syntax (1942735626.py, line 1)",
     "output_type": "error",
     "traceback": [
      "\u001b[1;36m  File \u001b[1;32m\"C:\\Users\\viraj_ppxqr08\\AppData\\Local\\Temp\\ipykernel_19292\\1942735626.py\"\u001b[1;36m, line \u001b[1;32m1\u001b[0m\n\u001b[1;33m    course name='ds','ba', 'ml'\u001b[0m\n\u001b[1;37m           ^\u001b[0m\n\u001b[1;31mSyntaxError\u001b[0m\u001b[1;31m:\u001b[0m invalid syntax\n"
     ]
    }
   ],
   "source": [
    "course name='ds','ba', 'ml'\n",
    "course name"
   ]
  },
  {
   "cell_type": "markdown",
   "id": "b9b6ef0a",
   "metadata": {},
   "source": [
    "### space are not allowed"
   ]
  },
  {
   "cell_type": "code",
   "execution_count": 14,
   "id": "9c56307b",
   "metadata": {},
   "outputs": [
    {
     "ename": "SyntaxError",
     "evalue": "cannot assign to operator (4128638582.py, line 1)",
     "output_type": "error",
     "traceback": [
      "\u001b[1;36m  File \u001b[1;32m\"C:\\Users\\viraj_ppxqr08\\AppData\\Local\\Temp\\ipykernel_19292\\4128638582.py\"\u001b[1;36m, line \u001b[1;32m1\u001b[0m\n\u001b[1;33m    course*name='ds','ba', 'ml'\u001b[0m\n\u001b[1;37m    ^\u001b[0m\n\u001b[1;31mSyntaxError\u001b[0m\u001b[1;31m:\u001b[0m cannot assign to operator\n"
     ]
    }
   ],
   "source": [
    "course*name='ds','ba', 'ml'\n",
    "course*name"
   ]
  },
  {
   "cell_type": "code",
   "execution_count": 17,
   "id": "511b8682",
   "metadata": {},
   "outputs": [
    {
     "data": {
      "text/plain": [
       "('ds', 'ba', 'ml')"
      ]
     },
     "execution_count": 17,
     "metadata": {},
     "output_type": "execute_result"
    }
   ],
   "source": [
    "course_name='ds','ba', 'ml'\n",
    "course_name"
   ]
  },
  {
   "cell_type": "code",
   "execution_count": 18,
   "id": "3a8bc2ed",
   "metadata": {},
   "outputs": [
    {
     "ename": "SyntaxError",
     "evalue": "invalid syntax (2612787089.py, line 1)",
     "output_type": "error",
     "traceback": [
      "\u001b[1;36m  File \u001b[1;32m\"C:\\Users\\viraj_ppxqr08\\AppData\\Local\\Temp\\ipykernel_19292\\2612787089.py\"\u001b[1;36m, line \u001b[1;32m1\u001b[0m\n\u001b[1;33m    3coursename='ds','ba', 'ml'\u001b[0m\n\u001b[1;37m     ^\u001b[0m\n\u001b[1;31mSyntaxError\u001b[0m\u001b[1;31m:\u001b[0m invalid syntax\n"
     ]
    }
   ],
   "source": [
    "3coursename='ds','ba', 'ml'\n",
    "3coursename"
   ]
  },
  {
   "cell_type": "code",
   "execution_count": 19,
   "id": "bdc193a4",
   "metadata": {},
   "outputs": [
    {
     "data": {
      "text/plain": [
       "('ds', 'ba', 'ml')"
      ]
     },
     "execution_count": 19,
     "metadata": {},
     "output_type": "execute_result"
    }
   ],
   "source": [
    "coursename3='ds','ba', 'ml'\n",
    "coursename3"
   ]
  },
  {
   "cell_type": "code",
   "execution_count": 20,
   "id": "f1a671ed",
   "metadata": {},
   "outputs": [
    {
     "data": {
      "text/plain": [
       "('ds', 'ba', 'ml')"
      ]
     },
     "execution_count": 20,
     "metadata": {},
     "output_type": "execute_result"
    }
   ],
   "source": [
    "co3ursename='ds','ba', 'ml'\n",
    "co3ursename"
   ]
  },
  {
   "cell_type": "markdown",
   "id": "eefe5b88",
   "metadata": {},
   "source": [
    "#### the only allowed spl char is underscore\n",
    "#### variables name not start  with a number\n",
    "#### it should start A-Z, a-z or underscore(_)"
   ]
  },
  {
   "cell_type": "code",
   "execution_count": null,
   "id": "5db9677d",
   "metadata": {},
   "outputs": [],
   "source": []
  }
 ],
 "metadata": {
  "kernelspec": {
   "display_name": "Python 3 (ipykernel)",
   "language": "python",
   "name": "python3"
  },
  "language_info": {
   "codemirror_mode": {
    "name": "ipython",
    "version": 3
   },
   "file_extension": ".py",
   "mimetype": "text/x-python",
   "name": "python",
   "nbconvert_exporter": "python",
   "pygments_lexer": "ipython3",
   "version": "3.9.13"
  }
 },
 "nbformat": 4,
 "nbformat_minor": 5
}
